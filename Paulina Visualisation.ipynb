{
 "cells": [
  {
   "cell_type": "markdown",
   "metadata": {},
   "source": [
    "## Run Model"
   ]
  },
  {
   "cell_type": "code",
   "execution_count": 1,
   "metadata": {},
   "outputs": [
    {
     "name": "stdout",
     "output_type": "stream",
     "text": [
      "running file: run.py\n",
      "running file: asset_utils.py\n",
      "end of file: asset_utils.py\n",
      "running file: sim_setup.py\n",
      "end of file: sim_setup.py\n",
      "end of file: run.py\n",
      "\n",
      "                  ___________    ____\n",
      "  ________ __ ___/ / ____/   |  / __ \\\n",
      " / ___/ __` / __  / /   / /| | / / / /\n",
      "/ /__/ /_/ / /_/ / /___/ ___ |/ /_/ /\n",
      "\\___/\\__,_/\\__,_/\\____/_/  |_/_____/\n",
      "by cadCAD\n",
      "\n",
      "Execution Mode: local_proc\n",
      "Configuration Count: 1\n",
      "Dimensions of the first simulation: (Timesteps, Params, Runs, Vars) = (10, 15, 3, 24)\n",
      "Execution Method: local_simulations\n",
      "SimIDs   : [0, 0, 0]\n",
      "SubsetIDs: [0, 1, 2]\n",
      "Ns       : [0, 1, 2]\n",
      "ExpIDs   : [0, 0, 0]\n",
      "Execution Mode: parallelized\n",
      "{'q_sold': 2100, 'ri_sold': 1050, 'ri_deposit': 0, 'q_deposit': 0, 'Si_burn': 0, 'action_id': 'R_Swap', 'agent_id': 5, 'asset_id': 'i', 'direction': 'ij', 'direction_q': 'test_r_for_r', 'purchased_asset_id': 'j'}\n",
      " R to R swap called \n",
      "{'q_sold': 2100, 'ri_sold': 1050, 'ri_deposit': 0, 'q_deposit': 0, 'Si_burn': 0, 'action_id': 'R_Swap', 'agent_id': 5, 'asset_id': 'i', 'direction': 'ij', 'direction_q': 'test_r_for_r', 'purchased_asset_id': 'j'}\n",
      " R to R swap called \n",
      "{'q_sold': 2100, 'ri_sold': 1050, 'ri_deposit': 0, 'q_deposit': 0, 'Si_burn': 0, 'action_id': 'R_Swap', 'agent_id': 5, 'asset_id': 'i', 'direction': 'ij', 'direction_q': 'test_r_for_r', 'purchased_asset_id': 'j'}\n",
      " R to R swap called \n",
      " R added to pool of  R added to pool of "
     ]
    }
   ],
   "source": [
    "# Dependences\n",
    "import pandas as pd\n",
    "import numpy as np\n",
    "import matplotlib.pyplot as plt\n",
    "\n",
    "# Experiments\n",
    "from model import run\n",
    "from model.parts.utils import *\n",
    "from model.plot_utils import *\n",
    "\n",
    "pd.options.display.float_format = '{:.2f}'.format\n",
    "\n",
    "%matplotlib inline\n",
    "\n",
    "df = run.run()\n",
    "rdf = run.postprocessing(df)\n",
    "# rdf = df # debugging substeps "
   ]
  },
  {
   "cell_type": "code",
   "execution_count": 2,
   "metadata": {},
   "outputs": [],
   "source": [
    "hydra = rdf[['Q', 'H', 'Sq']]\n",
    "\n",
    "hydra.columns = ['Hydra_Q', 'Hydra_H', 'Hydra_Sq']"
   ]
  },
  {
   "cell_type": "code",
   "execution_count": 3,
   "metadata": {},
   "outputs": [],
   "source": [
    "print(rdf.pool[rdf.first_valid_index()])\n",
    "# !!! does not run"
   ]
  },
  {
   "cell_type": "code",
   "execution_count": 4,
   "metadata": {},
   "outputs": [],
   "source": [
    "rdf.pool[rdf.first_valid_index()].pool\n",
    "# !!! does not run"
   ]
  },
  {
   "cell_type": "markdown",
   "metadata": {},
   "source": [
    "### Define Arbitrage Wedge Plot in Code"
   ]
  },
  {
   "cell_type": "code",
   "execution_count": null,
   "metadata": {},
   "outputs": [],
   "source": [
    "#Add in: plot_utils.py\n",
    "\n",
    "def AW_plot(experiments,test_title,T):\n",
    "\n",
    "    AW = []\n",
    "     \n",
    "    #as seen in plot_utils.py\n",
    "    df = experiments\n",
    "    df = df[df['substep'] == df.substep.max()]\n",
    "    df.fillna(0,inplace=True)\n",
    "    df.reset_index()\n",
    "\n",
    "    for i in range(df.substep.max(),T, df.substep.max()): \n",
    "        Ri = df.pool[i].pool['i']['R']\n",
    "        Rj = df.pool[i].pool['j']['R']\n",
    "        Q = #?\n",
    "            \n",
    "        Si = df.pool[i].pool['i']['S']\n",
    "        Sj = df.pool[i].pool['j']['S']           \n",
    "        Sq = #?\n",
    "            \n",
    "        MPi = df.pool[i].pool['i']['MP'] #?\n",
    "        MPj = df.pool[i].pool['j']['MP'] #?\n",
    "        MPq = #?\n",
    "        \n",
    "        Total_V1t = Ri*MPi + Rj*MPj + Q*MPq\n",
    "        Total_VHt = Si*MPi + Sj*MPj + Sq*MPq\n",
    "        \n",
    "        AWt = (Total_V1t -Total_VHt) / Total_VHt\n",
    "        AW.append(AWt)\n",
    "\n",
    "    #plt.figure(figsize=(20,6))\n",
    "    #plt.subplot(141)\n",
    "    plt.plot(df.timestep,AW)\n",
    "    plt.xlabel('Timestep')\n",
    "    plt.ylabel('Arbitrage Wedge')\n",
    "    plt.legend()"
   ]
  },
  {
   "cell_type": "markdown",
   "metadata": {},
   "source": [
    "### Execute Arbitrage Plot"
   ]
  },
  {
   "cell_type": "code",
   "execution_count": null,
   "metadata": {},
   "outputs": [],
   "source": [
    "AW_plot(rdf,'Arbitrage Wedge Omnipool', len(rdf['timestep']))"
   ]
  }
 ],
 "metadata": {
  "kernelspec": {
   "display_name": "Python 3",
   "language": "python",
   "name": "python3"
  },
  "language_info": {
   "codemirror_mode": {
    "name": "ipython",
    "version": 3
   },
   "file_extension": ".py",
   "mimetype": "text/x-python",
   "name": "python",
   "nbconvert_exporter": "python",
   "pygments_lexer": "ipython3",
   "version": "3.6.6"
  }
 },
 "nbformat": 4,
 "nbformat_minor": 4
}
